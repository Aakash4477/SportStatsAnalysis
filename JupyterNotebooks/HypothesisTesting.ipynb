{
 "cells": [
  {
   "cell_type": "markdown",
   "metadata": {},
   "source": [
    "# Hypothesis Testing"
   ]
  },
  {
   "cell_type": "markdown",
   "metadata": {},
   "source": [
    "## Import Libraries"
   ]
  },
  {
   "cell_type": "code",
   "execution_count": 2,
   "metadata": {},
   "outputs": [],
   "source": [
    "import pandas as pd\n",
    "import numpy as np\n",
    "import math\n",
    "\n",
    "pd.set_option('display.max_columns', None)\n",
    "import warnings\n",
    "warnings.filterwarnings('ignore')\n",
    "import matplotlib.pyplot as plt\n",
    "import seaborn as sns \n",
    "from scipy import stats"
   ]
  },
  {
   "cell_type": "markdown",
   "metadata": {},
   "source": [
    "## Hypothesis testing\n",
    "\n",
    "\n",
    "$t = \\frac{(\\bar{X}-\\mu_{0})}{\\hat{\\sigma}/\\sqrt{n}}$\n",
    "\n",
    "where:\n",
    "\n",
    "$\\bar{X}$ is the sample mean\n",
    "\n",
    "$\\mu_{0}$ is the population mean\n",
    "\n",
    "$\\hat{\\sigma}$ is the sample standard deviation\n",
    "\n",
    "$n$ is the number of measures in our sample"
   ]
  },
  {
   "cell_type": "markdown",
   "metadata": {},
   "source": [
    "## With the introduction of VAR, will we see a significant increase in the amount of penalties awarded this season?\n",
    "\n",
    "### H0 = There will not be a significant increase in the number of penalties awarded.\n",
    "### H1 = Alternative hypothesis: There is significantly different\n"
   ]
  },
  {
   "cell_type": "code",
   "execution_count": 11,
   "metadata": {},
   "outputs": [
    {
     "name": "stdout",
     "output_type": "stream",
     "text": [
      "Statistic is:  3.1794469613438836\n"
     ]
    }
   ],
   "source": [
    "# Calculating T statistic for one sample t test\n",
    "\n",
    "\n",
    "sample_mean = 0.23129\n",
    "pop_mean = 0.106455\n",
    "sample_std = 0.17559\n",
    "n = 20\n",
    "\n",
    "statistic = (sample_mean - pop_mean)/(sample_std/math.sqrt(n))\n",
    "print(\"Statistic is: \", statistic)"
   ]
  },
  {
   "cell_type": "code",
   "execution_count": 15,
   "metadata": {},
   "outputs": [
    {
     "name": "stdout",
     "output_type": "stream",
     "text": [
      "Critical Value of z is:  -2.085963447265837\n"
     ]
    }
   ],
   "source": [
    "from scipy.stats import t\n",
    "\n",
    "print(\"Critical Value of z is: \", t.ppf(0.025, n))"
   ]
  },
  {
   "cell_type": "code",
   "execution_count": null,
   "metadata": {},
   "outputs": [],
   "source": [
    "# Using the standard normal distribution table https://www.math.arizona.edu/~rsims/ma464/standardnormaltable.pdf\n",
    "# Looking up 1- 0.05 = 0.975 We get the value 1.96, which is way below the t value of 4.762.\n",
    "\n",
    "#Therefore the group is significantly different from the general population.\n",
    "\n",
    "# With a result less than 1.96 we would assume that the group\n"
   ]
  },
  {
   "cell_type": "code",
   "execution_count": 16,
   "metadata": {},
   "outputs": [
    {
     "name": "stdout",
     "output_type": "stream",
     "text": [
      "Critical Value of z is:  -2.845339709776814\n"
     ]
    }
   ],
   "source": [
    "print(\"Critical Value of z is: \", t.ppf(0.005, n))"
   ]
  }
 ],
 "metadata": {
  "kernelspec": {
   "display_name": "Python 3",
   "language": "python",
   "name": "python3"
  },
  "language_info": {
   "codemirror_mode": {
    "name": "ipython",
    "version": 3
   },
   "file_extension": ".py",
   "mimetype": "text/x-python",
   "name": "python",
   "nbconvert_exporter": "python",
   "pygments_lexer": "ipython3",
   "version": "3.7.6"
  }
 },
 "nbformat": 4,
 "nbformat_minor": 4
}
